{
 "cells": [
  {
   "cell_type": "markdown",
   "metadata": {},
   "source": [
    "# Class 32-33 - List Processing \n",
    "**COMP130 - Introduction to Computing**  \n",
    "**Dickinson College**  "
   ]
  },
  {
   "cell_type": "markdown",
   "metadata": {},
   "source": [
    "### Names:"
   ]
  },
  {
   "cell_type": "markdown",
   "metadata": {},
   "source": []
  },
  {
   "cell_type": "markdown",
   "metadata": {},
   "source": [
    "### Mapping Tasks to Patterns"
   ]
  },
  {
   "cell_type": "markdown",
   "metadata": {},
   "source": [
    "__Q1:__ Consider the task described below.  Which pattern (map, filter or reduce) would be most appropriate for solving it? How does the task fit that pattern?\n",
    "\n",
    "> Given a list of water depths in a river at high tide.  Find the mean water depth at high tide."
   ]
  },
  {
   "cell_type": "markdown",
   "metadata": {},
   "source": []
  },
  {
   "cell_type": "markdown",
   "metadata": {},
   "source": [
    "__Q2:__ Consider the task described below.  Which pattern (map, filter or reduce) would be most appropriate for solving it? How does the task fit that pattern?\n",
    "\n",
    "> The Acme company gives all employees a bonus the holidays. This year it is a 15% bonus.  Add the bonus into the scheduled pay for all of the employees."
   ]
  },
  {
   "cell_type": "markdown",
   "metadata": {},
   "source": []
  },
  {
   "cell_type": "markdown",
   "metadata": {},
   "source": [
    "__Q3:__ Consider the task described below.  Which pattern (map, filter or reduce) would be most appropriate for solving it? How does the task fit that pattern?\n",
    "\n",
    "> A sheet metal manufacturing machine has a sensor that reports the thickness of the metal every 100 ms as it comes out of the machine. About once per second the sensor experiences an error and reports a negative reading. Remove the readings caused by errors from the data. "
   ]
  },
  {
   "cell_type": "markdown",
   "metadata": {},
   "source": []
  },
  {
   "cell_type": "markdown",
   "metadata": {},
   "source": [
    "### Identifying Patterns in Code"
   ]
  },
  {
   "cell_type": "markdown",
   "metadata": {},
   "source": [
    "__Q4:__ Consider the function below.  Which pattern (map, filter or reduce) best describes what the code is doing? Explain how the code fits that pattern.\n",
    "```Python\n",
    "def skip_list(a_list, jump):\n",
    "    new_list = []\n",
    "    \n",
    "    index = 0\n",
    "    while index < len(a_list):\n",
    "        new_list.append(a_list[index])\n",
    "        index = index + jump\n",
    "        \n",
    "    return new_list\n",
    "```"
   ]
  },
  {
   "cell_type": "markdown",
   "metadata": {},
   "source": []
  },
  {
   "cell_type": "markdown",
   "metadata": {},
   "source": [
    "__Q5:__ Consider the function below.  Which pattern (map, filter or reduce) best describes what the code is doing? Explain how the code fits that pattern.\n",
    "```Python\n",
    "def translate(text):\n",
    "    translation = []\n",
    "    for word in text:\n",
    "        new_word = translate(word)\n",
    "        translation.append(new_word)\n",
    "        \n",
    "    return translation\n",
    "```"
   ]
  },
  {
   "cell_type": "markdown",
   "metadata": {},
   "source": []
  },
  {
   "cell_type": "markdown",
   "metadata": {},
   "source": [
    "__Q6:__ Consider the function below.  Which pattern (map, filter or reduce) best describes what the code is doing? Explain how the code fits that pattern.\n",
    "```Python\n",
    "def loop_distance(points):\n",
    "    distance = 0\n",
    "    \n",
    "    for index in range(len(points)-1):\n",
    "        pt_dist = abs(points[index]-points[index+1])\n",
    "        distance = distance + pt_dist\n",
    "        \n",
    "    distance = distance + abs(points[len(points)-1]-points[0])\n",
    "    return distance\n",
    "```"
   ]
  },
  {
   "cell_type": "markdown",
   "metadata": {},
   "source": []
  },
  {
   "cell_type": "markdown",
   "metadata": {},
   "source": [
    "### Applying Patterns"
   ]
  },
  {
   "cell_type": "markdown",
   "metadata": {},
   "source": [
    "__Q7:__ Write a function named `count_words` that takes a `List` of words and a word as arguments and returns the number of times the word appears in the `List`.  The case of the letters in the word should be ignored (i.e. `Cat` is counted as the same as `cat`). You can use the automated tests given below the check that your function is working correctly."
   ]
  },
  {
   "cell_type": "code",
   "execution_count": null,
   "metadata": {},
   "outputs": [],
   "source": []
  },
  {
   "cell_type": "code",
   "execution_count": null,
   "metadata": {
    "deletable": false,
    "editable": false
   },
   "outputs": [],
   "source": [
    "test_list = ['a', 'B', 'c', 'C', 'b', 'b', 'd', 'b', 'd', 'e']\n",
    "assert count_words('a') == 1, 'Wrong count for a'\n",
    "assert count_words('b') == 4, 'Wrong count for b'\n",
    "assert count_words('c') == 2, 'Wrong count for c'\n",
    "assert count_words('d') == 2, 'Wrong count for d'\n",
    "assert count_words('e') == 1, 'Wrong count for e'\n",
    "assert count_words('f') == 0, 'Wrong count for f'\n",
    "print(\"Success!\")"
   ]
  },
  {
   "cell_type": "markdown",
   "metadata": {},
   "source": [
    "__Q8:__ Which pattern (map, filter, or reduce) did you apply in your code in __Q7__?"
   ]
  },
  {
   "cell_type": "markdown",
   "metadata": {},
   "source": []
  },
  {
   "cell_type": "markdown",
   "metadata": {},
   "source": [
    "__Q9:__ Write a function named `compute_polynomial` that takes two `List`s as arguments.  The first list is a list of `x` values for which to evaluate a polynomial described by the second list.  The second list will have length 3 and gives the coefficients of the polynomial.  For example, if the second list is `[2, 4, -3]` then the polynomial that it represents is $2 \\cdot x^2 + 4 \\cdot x - 3$.  The compute_polynomial function returns the the value of the polynomial evaluated on each of the `x` values. You can use the automated tests below to check that your function is working correctly."
   ]
  },
  {
   "cell_type": "code",
   "execution_count": null,
   "metadata": {},
   "outputs": [],
   "source": []
  },
  {
   "cell_type": "code",
   "execution_count": null,
   "metadata": {
    "deletable": false,
    "editable": false
   },
   "outputs": [],
   "source": [
    "x = [-2, -1, 0, 1, 2, 3]\n",
    "poly = [2, -1, 3]\n",
    "assert compute_polynomial(x, poly) == [13, 6, 3, 4, 9, 18], 'Incorrect result'\n",
    "\n",
    "poly = [-3, 2, 0]\n",
    "assert compute_polynomial(x, poly) == [-16, -5, 0, -1, -8, -21], 'Incorrect result'\n",
    "\n",
    "poly = [0, 5, -2]\n",
    "assert compute_polynomial(x, poly) == [-12, -7, -2, 3, 8, 13], 'Incorrect result'\n",
    "\n",
    "poly = [0, 0, 0]\n",
    "assert compute_polynomial(x, poly) == [0, 0, 0, 0, 0, 0], 'Incorrect result'"
   ]
  },
  {
   "cell_type": "markdown",
   "metadata": {},
   "source": [
    "__Q10:__ Which pattern (map, filter, or reduce) did you apply in your code in __Q9__?"
   ]
  },
  {
   "cell_type": "markdown",
   "metadata": {},
   "source": []
  },
  {
   "cell_type": "markdown",
   "metadata": {},
   "source": [
    "__Q11:__ Write a function that given a `List` of words, generates a new `List` containing only the words that contain at least one duplicate letter. For example, `Daddy` would be included because it contains `dd`, but `Mom` would not be included because even though it has two `M`s they are not adjacent.  The case of the letters should be ignored.  Hint: It may make it easier to define another function to help you."
   ]
  },
  {
   "cell_type": "code",
   "execution_count": null,
   "metadata": {},
   "outputs": [],
   "source": []
  },
  {
   "cell_type": "markdown",
   "metadata": {},
   "source": [
    "__Q12:__ Write a few automated tests that check that your function from __Q12__ is working correctly."
   ]
  },
  {
   "cell_type": "code",
   "execution_count": null,
   "metadata": {},
   "outputs": [],
   "source": []
  },
  {
   "cell_type": "markdown",
   "metadata": {},
   "source": [
    "__Q13:__ Which pattern (map, filter, or reduce) did you apply in your code in __Q12__"
   ]
  },
  {
   "cell_type": "markdown",
   "metadata": {},
   "source": []
  },
  {
   "cell_type": "markdown",
   "metadata": {},
   "source": [
    "![Stop sign](stop.png)\n",
    "End of Class 32 material."
   ]
  },
  {
   "cell_type": "markdown",
   "metadata": {},
   "source": [
    "### Object References and Aliases"
   ]
  },
  {
   "cell_type": "markdown",
   "metadata": {},
   "source": [
    "__Q14:__ Draw a state diagram showing the variables and values in the program below.  Include a picture of your state diagram as your answer to this question.\n",
    "```Python\n",
    "x = 9\n",
    "day = 'Monday'\n",
    "date = [3, 14, 2015]\n",
    "```"
   ]
  },
  {
   "cell_type": "markdown",
   "metadata": {},
   "source": []
  },
  {
   "cell_type": "markdown",
   "metadata": {},
   "source": [
    "__Q15:__ Draw a state diagram showing the variables and values in the program below.  Include a picture of your state diagram as your answer to this question.\n",
    "```Python\n",
    "x = [1, 3, 5]\n",
    "y = [2, 4, 6]\n",
    "z = [2, 4, 6]\n",
    "a = x\n",
    "b = y\n",
    "```"
   ]
  },
  {
   "cell_type": "markdown",
   "metadata": {},
   "source": []
  },
  {
   "cell_type": "markdown",
   "metadata": {},
   "source": [
    "__Q16:__ Assuming the variables from __Q15__ are defined, what output would be generated by the following statements?  You should be able to answer this question without running any of the code. But you might run some code to check your answers.\n",
    "```Python\n",
    "x[0] = 4\n",
    "a[2] = 2\n",
    "\n",
    "print(x[0])\n",
    "print(a[0])\n",
    "print(x[2])\n",
    "print(a[2])\n",
    "```"
   ]
  },
  {
   "cell_type": "markdown",
   "metadata": {},
   "source": []
  },
  {
   "cell_type": "markdown",
   "metadata": {},
   "source": [
    "__Q17:__ Assuming the variables from __Q15__ are defined, what output would be generated by the following statements?  You should be able to answer this question without running any of the code.  But you might run some code to check your answers.\n",
    "```Python\n",
    "y[1] = 2\n",
    "b[1] = 6\n",
    "z[1] = 9\n",
    "\n",
    "print(y[1])\n",
    "print(b[1])\n",
    "print(z[1])\n",
    "```"
   ]
  },
  {
   "cell_type": "markdown",
   "metadata": {},
   "source": []
  },
  {
   "cell_type": "markdown",
   "metadata": {},
   "source": [
    "### Arguments, Aliases and Parameters"
   ]
  },
  {
   "cell_type": "markdown",
   "metadata": {},
   "source": [
    "__Q18:__ Draw a stack diagram that illustrates the execution of the program shown below at the point when `Line A` completes its execution.  Include a photo of your stack diagram as your answer to this question.\n",
    "\n",
    "```Python\n",
    "def next_year(date):\n",
    "    date[2] = date[2] + 1   # Line A\n",
    "\n",
    "b_day = [4, 22, 2006]\n",
    "print(b_day)\n",
    "next_year(b_day)\n",
    "print(b_day)\n",
    "```"
   ]
  },
  {
   "cell_type": "markdown",
   "metadata": {},
   "source": []
  },
  {
   "cell_type": "markdown",
   "metadata": {},
   "source": [
    "__Q19:__ What output would be generated by the program in __Q18__.  You should be able to answer this question without running any of the code.  But you might run some code to check your answers."
   ]
  },
  {
   "cell_type": "markdown",
   "metadata": {},
   "source": []
  },
  {
   "cell_type": "markdown",
   "metadata": {},
   "source": [
    "__Q20:__ Draw a stack diagram that illustrates the execution of the program shown below at the point when `Line A` completes its execution.  Think carefully about this one, it is subtly different than the previous one.  Include a photo of your stack diagram as your answer to this question.\n",
    "```Python\n",
    "def messy(a_list):\n",
    "    a_list[0] = 1        # Line A\n",
    "    a_list = [2, 3, 4]   # Line B\n",
    "    a_list[1] = 7\n",
    "    \n",
    "nums = [4, 6, 8]\n",
    "messy(nums)\n",
    "print(nums)\n",
    "```"
   ]
  },
  {
   "cell_type": "markdown",
   "metadata": {},
   "source": []
  },
  {
   "cell_type": "markdown",
   "metadata": {},
   "source": [
    "__Q21:__ Update your stack diagram from __Q20__ so that it illustrates the execution of the program when `Line B` completes its execution.  Include a photo of your stack diagram as your answer to this question."
   ]
  },
  {
   "cell_type": "markdown",
   "metadata": {},
   "source": []
  },
  {
   "cell_type": "markdown",
   "metadata": {},
   "source": [
    "__Q22:__ What output would be generated by the program in Q20. You should be able to answer this question without running any of the code. But you might run some code to check your answers."
   ]
  },
  {
   "cell_type": "markdown",
   "metadata": {},
   "source": []
  },
  {
   "cell_type": "markdown",
   "metadata": {},
   "source": [
    "### Fruitless Maps and Filters\n",
    "\n",
    "As the last several questions illustrated when an object reference is passed as a parameter the parameter is an alias to the object.  Thus, the object itself can be modified within the function. We can use this behavior to create *map* and *filter* functions that change the `List` rather than return a new `List`.  That is, the *map* and *filter* functions are *fruitless* because they do not return a value.  They do however, have an effect because they change the `List` that they are given.  The next few questions ask you to write functions in this way."
   ]
  },
  {
   "cell_type": "markdown",
   "metadata": {},
   "source": [
    "__Q23:__ Write a function named `clean_and_title` that takes a `List` of `String`s.  The function modifies each `String` in the list, removing all leading and trailing spaces and changing the string to *title case* (i.e. capitalizing the first letter of each word).  Hint: use functions in the `String` class to perform the operations on each `List` element. You can use the automated tests below to check that your function is working correctly."
   ]
  },
  {
   "cell_type": "code",
   "execution_count": null,
   "metadata": {},
   "outputs": [],
   "source": []
  },
  {
   "cell_type": "code",
   "execution_count": null,
   "metadata": {
    "deletable": false,
    "editable": false
   },
   "outputs": [],
   "source": [
    "a_list=['  one', 'two  ', '  three four  ']\n",
    "clean_and_title(a_list)\n",
    "assert a_list[0] == 'One', 'First string not mapped'\n",
    "assert a_list[1] == 'Two', 'Second string not mapped'\n",
    "assert a_list[2] == 'Three Four', 'Third string not mapped'\n",
    "print('Success!')"
   ]
  },
  {
   "cell_type": "markdown",
   "metadata": {},
   "source": [
    "__Q24:__ Write a function named `drop_lowest` that removes the smallest value from a list of numbers that is given to it as a parameter.  You can use the automated tests below to check that your function is working correctly."
   ]
  },
  {
   "cell_type": "code",
   "execution_count": null,
   "metadata": {},
   "outputs": [],
   "source": []
  },
  {
   "cell_type": "code",
   "execution_count": null,
   "metadata": {
    "deletable": false,
    "editable": false
   },
   "outputs": [],
   "source": [
    "grades = [30, 87, 93, 82]\n",
    "drop_lowest(grades)\n",
    "assert grades == [87, 93, 82], 'Incorrect dropped value'\n",
    "\n",
    "grades = [87, 30, 93, 82]\n",
    "drop_lowest(grades)\n",
    "assert grades == [87, 93, 82], 'Incorrect dropped value'\n",
    "\n",
    "grades = [87, 93, 82, 30]\n",
    "drop_lowest(grades)\n",
    "assert grades == [87, 93, 82], 'Incorrect dropped value'\n",
    "\n",
    "print('Success!')"
   ]
  },
  {
   "cell_type": "code",
   "execution_count": null,
   "metadata": {},
   "outputs": [],
   "source": []
  },
  {
   "cell_type": "markdown",
   "metadata": {},
   "source": [
    "__Q25:__ Write a function that takes a `List` of words as a parameter and removes all of the duplicates from the list. For example `['python', 'boa', 'black', 'boa', 'Boa', 'python]` would be changed to `['python', 'boa', 'black']`.  Case should be ignored when checking for duplicates, so `'boa'` and `'Boa'` are considered duplicates."
   ]
  },
  {
   "cell_type": "code",
   "execution_count": null,
   "metadata": {},
   "outputs": [],
   "source": []
  },
  {
   "cell_type": "markdown",
   "metadata": {},
   "source": [
    "__Q26:__ Write some automated tests that check that your function from __Q25__ is working correctly."
   ]
  },
  {
   "cell_type": "code",
   "execution_count": null,
   "metadata": {},
   "outputs": [],
   "source": []
  },
  {
   "cell_type": "markdown",
   "metadata": {},
   "source": [
    "### Optional Extra Challenge"
   ]
  },
  {
   "cell_type": "markdown",
   "metadata": {},
   "source": [
    "__Q27__ Read about the [Sieve of Eratosthenes](https://www.geeksforgeeks.org/sieve-of-eratosthenes/), which is an algorithm for finding prime numbers.  Write a program that uses the Sieve of Eratosthenes to display all of the prime numbers from 2 to 200.  Note: It isn't hard to find a Python program for this algorithm, but its way more fun to try to get it working yourself!"
   ]
  }
 ],
 "metadata": {
  "kernelspec": {
   "display_name": "Python 3",
   "language": "python",
   "name": "python3"
  },
  "language_info": {
   "codemirror_mode": {
    "name": "ipython",
    "version": 3
   },
   "file_extension": ".py",
   "mimetype": "text/x-python",
   "name": "python",
   "nbconvert_exporter": "python",
   "pygments_lexer": "ipython3",
   "version": "3.7.3"
  }
 },
 "nbformat": 4,
 "nbformat_minor": 2
}
