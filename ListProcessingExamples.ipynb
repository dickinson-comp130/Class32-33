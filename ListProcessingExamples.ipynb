{
 "cells": [
  {
   "cell_type": "markdown",
   "metadata": {},
   "source": [
    "# Class 32-33 - List Processing Examples\n",
    "**COMP130 - Introduction to Computing**  \n",
    "**Dickinson College**  "
   ]
  },
  {
   "cell_type": "markdown",
   "metadata": {},
   "source": [
    "### Map Pattern\n",
    "\n",
    "The *map pattern* applies an operation to every element of a `List`.  The structure of the code for *visiting* every element of the `List` is the similar regardless of the operation that is being applied to them.  Thus, *mapping* an operation to the elements of a `List` is a *pattern* that can be adapted to any operation."
   ]
  },
  {
   "cell_type": "code",
   "execution_count": null,
   "metadata": {},
   "outputs": [],
   "source": [
    "def curve_grades(scores, curve):\n",
    "    \"\"\" Apply the curve to each score \n",
    "        in the list scores. \"\"\"\n",
    "    \n",
    "    new_scores = []\n",
    "    for score in scores:\n",
    "        new_scores.append(score + curve)\n",
    "        \n",
    "    return new_scores"
   ]
  },
  {
   "cell_type": "code",
   "execution_count": null,
   "metadata": {},
   "outputs": [],
   "source": [
    "grades = [90, 82, 83, 74, 95]\n",
    "\n",
    "curved = curve_grades(grades, 3)\n",
    "\n",
    "print(grades)\n",
    "print(curved)"
   ]
  },
  {
   "cell_type": "markdown",
   "metadata": {},
   "source": [
    "Notice the similarity in structure to the following program that *maps* a different operation onto a `List`."
   ]
  },
  {
   "cell_type": "code",
   "execution_count": null,
   "metadata": {},
   "outputs": [],
   "source": [
    "def add_interest(balances, rate):\n",
    "    \"\"\" Add interest at the given rate to \n",
    "        each balance in the list balances. \"\"\"\n",
    "    \n",
    "    new_balances = []\n",
    "    for balance in balances:\n",
    "        interest = balance * rate\n",
    "        new_bal = balance + interest\n",
    "        new_balances.append(new_bal)\n",
    "    \n",
    "    return new_balances"
   ]
  },
  {
   "cell_type": "code",
   "execution_count": null,
   "metadata": {},
   "outputs": [],
   "source": [
    "accounts = [100.0, 10.0, 50.0, 200.0]\n",
    "\n",
    "with_int = add_interest(accounts, 0.1)\n",
    "\n",
    "print(accounts)\n",
    "print(with_int)"
   ]
  },
  {
   "cell_type": "markdown",
   "metadata": {},
   "source": [
    "### Filter Pattern\n",
    "\n",
    "The *filter pattern* selects elements from a `List` based on some criterion.  The structure of the code for visiting each element of the `List` and checking if it meets the criterion is the similar regardless of the criterion.  Typically the condition on an `if/else` statement must just be changed to match the criterion.  Thus, *filtering* a `List` is a *pattern* that can be adapted to any criterion."
   ]
  },
  {
   "cell_type": "code",
   "execution_count": null,
   "metadata": {},
   "outputs": [],
   "source": [
    "def comes_before(names, cutoff):\n",
    "    \"\"\" Get all of the names in the list\n",
    "        names that come before cutoff in \n",
    "        the alphabet \"\"\"\n",
    "    \n",
    "    names_before = []\n",
    "    for name in names:\n",
    "        if name.upper() < cutoff.upper():\n",
    "            names_before.append(name)\n",
    "        \n",
    "    return names_before"
   ]
  },
  {
   "cell_type": "code",
   "execution_count": null,
   "metadata": {},
   "outputs": [],
   "source": [
    "students = ['Zeki', 'Amara', 'Jessie', 'Max', 'Sid', 'Menting']\n",
    "\n",
    "first = comes_before(students, 'Menting')\n",
    "\n",
    "print(students)\n",
    "print(first)"
   ]
  },
  {
   "cell_type": "markdown",
   "metadata": {},
   "source": [
    "### Reduce (or Aggregate) Pattern\n",
    "\n",
    "The *reduce pattern* computes some aggregate information from the elements of a `List`.  Again, the structure of the code for visiting each element of the `List` is similar regardless of what is being computed.  Here the supporting code to compute the aggregate information must be adapted depending upon what is being computed (e.g. total, max, min, etc).  Thus, *reducing* a `List` is a *pattern* that can be applied to computing any aggregate information."
   ]
  },
  {
   "cell_type": "code",
   "execution_count": null,
   "metadata": {},
   "outputs": [],
   "source": [
    "def count_e(words):\n",
    "    \"\"\" Count the number of e's that \n",
    "        appear in the strings in the \n",
    "        list words. \"\"\"\n",
    "    \n",
    "    total_e = 0\n",
    "    for word in words:\n",
    "        up = word.upper()\n",
    "        total_e = total_e + up.count('E')\n",
    "        \n",
    "    return total_e"
   ]
  },
  {
   "cell_type": "code",
   "execution_count": null,
   "metadata": {},
   "outputs": [],
   "source": [
    "students = ['Zeki', 'Amara', 'Jessie', 'Max', 'Sid', 'Menting']\n",
    "\n",
    "num_e = count_e(students)\n",
    "\n",
    "print(num_e)"
   ]
  },
  {
   "cell_type": "markdown",
   "metadata": {},
   "source": [
    "### Augmented Assignment Operators\n",
    "\n",
    "Most programming languages include a number of *shortcut* operators that make programs more concise.  None of these operators are essential to writing good, well structured, correct or efficient programs.  However, you are likely to encounter them at some point, so it will be good to recognize them."
   ]
  },
  {
   "cell_type": "code",
   "execution_count": null,
   "metadata": {},
   "outputs": [],
   "source": [
    "x = 3\n",
    "\n",
    "x += 1    # Same as x = x + 1\n",
    "print(x)"
   ]
  },
  {
   "cell_type": "code",
   "execution_count": null,
   "metadata": {},
   "outputs": [],
   "source": [
    "x -= 1    # Same as x = x - 1\n",
    "print(x)\n"
   ]
  },
  {
   "cell_type": "code",
   "execution_count": null,
   "metadata": {},
   "outputs": [],
   "source": [
    "x *= 2\n",
    "print(x)\n",
    "\n",
    "x /= 3\n",
    "print(x)"
   ]
  },
  {
   "cell_type": "markdown",
   "metadata": {},
   "source": [
    "![Stop sign](stop.png)\n",
    "End of Class 32 material."
   ]
  },
  {
   "cell_type": "markdown",
   "metadata": {},
   "source": [
    "### Objects and Object References\n",
    "\n",
    "When an object is assigned to a variable the variable does not actually hold the object. It holds a *reference* to the object.  "
   ]
  },
  {
   "cell_type": "code",
   "execution_count": null,
   "metadata": {},
   "outputs": [],
   "source": [
    "x = 4\n",
    "name = 'Ben'\n",
    "primes = [2, 3, 5, 7]"
   ]
  },
  {
   "cell_type": "markdown",
   "metadata": {},
   "source": [
    "The state diagram shown below illustrates the above statements. \n",
    "\n",
    "![State diagram](objandref.png)\n",
    "\n",
    "You'll note when we do that the objects are drawn in a separate box and we use an arrow to point to them.  The arrow is called an *object reference* and this notation indicates that variable does not actually hold the object, but rather it just holds information on how to find the object. We will say the variable holds a *reference* to the object or the variable *refers* to the object).\n",
    "\n",
    "If your memory is very good you might recall that this is how we drew `Turtle` objects earlier in the semester.  "
   ]
  },
  {
   "cell_type": "markdown",
   "metadata": {},
   "source": [
    "### Object References and Aliases\n",
    "\n",
    "Because variables *refer* to objects and do not hold the objects it is possible for more than one variable to refer to the same object. When an object reference is assigned to another variable (e.g. `b = a`), the object reference, not the object is copied."
   ]
  },
  {
   "cell_type": "code",
   "execution_count": null,
   "metadata": {},
   "outputs": [],
   "source": [
    "a = [1, 2, 3]\n",
    "b = a\n",
    "\n",
    "c = [1, 2, 3]"
   ]
  },
  {
   "cell_type": "markdown",
   "metadata": {},
   "source": [
    "The state diagram shown below illustrates the above statements.\n",
    "\n",
    "![State diagram](aliasing.png)\n",
    "\n",
    "Notice that though the `List` is drawn in a simplified way in this diagram, it has the same meaning as in the one above. In this situation, `a` and `b` are said to be *aliases* for the same `List` object."
   ]
  },
  {
   "cell_type": "markdown",
   "metadata": {},
   "source": [
    "### Mutable Objects and Aliases\n",
    "\n",
    "When there are multiple aliases to mutable objects it is important to keep careful track of which objects are being accessed and modified through operations."
   ]
  },
  {
   "cell_type": "code",
   "execution_count": null,
   "metadata": {},
   "outputs": [],
   "source": [
    "print(a[1])\n",
    "print(b[1])\n",
    "a[1] = 7\n",
    "print(a[1])\n",
    "print(b[1])"
   ]
  },
  {
   "cell_type": "code",
   "execution_count": null,
   "metadata": {},
   "outputs": [],
   "source": [
    "b[0] = 9\n",
    "print(a[0])\n",
    "print(b[0])"
   ]
  },
  {
   "cell_type": "markdown",
   "metadata": {},
   "source": [
    "### Function Parameters and Aliases\n",
    "\n",
    "When a value is passed as an argument to a parameter in a method the value of the argument is assigned to the parameter.  If the argument is an object reference, then the parameter becomes an alias to the same object."
   ]
  },
  {
   "cell_type": "code",
   "execution_count": 1,
   "metadata": {},
   "outputs": [
    {
     "name": "stdout",
     "output_type": "stream",
     "text": [
      "3\n"
     ]
    }
   ],
   "source": [
    "def alias_ex(x):\n",
    "    print(x[2])\n",
    "    \n",
    "y = [5, 4, 3, 2, 1]\n",
    "alias_ex(y)"
   ]
  },
  {
   "cell_type": "markdown",
   "metadata": {},
   "source": [
    "The stack diagram below illustrates what the execution of this program would look like.  Notice that the variable `y` and the parameter `x` both refer to the same `List` object.  This is because the object reference in `y` was assigned into the parameter `x`.\n",
    "\n",
    "![Stack diagram](alias_ex.png)\n",
    "\n",
    "If you think about this carefully, it means that the code in a function can modify the object referred to by the argument."
   ]
  },
  {
   "cell_type": "code",
   "execution_count": 3,
   "metadata": {},
   "outputs": [
    {
     "name": "stdout",
     "output_type": "stream",
     "text": [
      "3\n",
      "10\n"
     ]
    }
   ],
   "source": [
    "def alias_change(x):\n",
    "    x[2] = 10\n",
    "    \n",
    "y = [5, 4, 3, 2, 1]    \n",
    "print(y[2])\n",
    "alias_change(y)\n",
    "print(y[2])"
   ]
  },
  {
   "cell_type": "markdown",
   "metadata": {},
   "source": [
    "The stack diagram after the *alias_change* function exits shows why the value of `y[2]` has been changed in the main program as well.\n",
    "\n",
    "![Stack diagram](alias_change2.png)\n",
    "\n",
    "This is very different than what happens when we pass a value that is not an object reference to a function:"
   ]
  },
  {
   "cell_type": "code",
   "execution_count": null,
   "metadata": {},
   "outputs": [],
   "source": [
    "def not_today(x):\n",
    "    x = 7\n",
    "    \n",
    "y = 3\n",
    "not_today(y)\n",
    "print(y)"
   ]
  },
  {
   "cell_type": "markdown",
   "metadata": {},
   "source": [
    "In the stack diagram for this program the value of `y` (`3`) is copied into `x` and when `x` is changed the copy is changed.\n",
    "\n",
    "![Stack diagram](not_today.png)"
   ]
  }
 ],
 "metadata": {
  "kernelspec": {
   "display_name": "Python 3",
   "language": "python",
   "name": "python3"
  },
  "language_info": {
   "codemirror_mode": {
    "name": "ipython",
    "version": 3
   },
   "file_extension": ".py",
   "mimetype": "text/x-python",
   "name": "python",
   "nbconvert_exporter": "python",
   "pygments_lexer": "ipython3",
   "version": "3.7.3"
  }
 },
 "nbformat": 4,
 "nbformat_minor": 2
}
